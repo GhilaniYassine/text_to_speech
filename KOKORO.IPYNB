{
 "cells": [
  {
   "cell_type": "code",
   "execution_count": null,
   "metadata": {
    "vscode": {
     "languageId": "plaintext"
    }
   },
   "outputs": [],
   "source": [
    "!git lfs install \n",
    "!git clone https://huggingface.co/hexgrad/Kokoro-82M\n",
    "%cd Kokoro-82M\n",
    "!apt-get -qq -y install espeak-ng > /dev/null 2>&1\n",
    "!pip install -q phonemizer torch transformers scipy munch "
   ]
  },
  {
   "cell_type": "code",
   "execution_count": null,
   "metadata": {
    "vscode": {
     "languageId": "plaintext"
    }
   },
   "outputs": [],
   "source": [
    "from models import build_model\n",
    "import torch\n",
    "\n"
   ]
  },
  {
   "cell_type": "code",
   "execution_count": null,
   "metadata": {
    "vscode": {
     "languageId": "plaintext"
    }
   },
   "outputs": [],
   "source": [
    "device = 'cuda' torch.cuda.is_available() else 'cpu'\n"
   ]
  },
  {
   "cell_type": "code",
   "execution_count": null,
   "metadata": {
    "vscode": {
     "languageId": "plaintext"
    }
   },
   "outputs": [],
   "source": [
    "MODEL  = build_model('Kokoro-v0_19.pth', device)"
   ]
  },
  {
   "cell_type": "code",
   "execution_count": null,
   "metadata": {
    "vscode": {
     "languageId": "plaintext"
    }
   },
   "outputs": [],
   "source": [
    "VOICE_NAME = [\n",
    "    'af',  # Default voice is a 50-50 mix of Bella & Sarah\n",
    "    'af_bella', 'af_sarah', 'am_adam', 'am_michael',\n",
    "    'bf_emma', 'bf_isabella', 'bm_george', 'bm_lewis',\n",
    "    'af_nicole', 'af_sky',\n",
    "]\n",
    "VOICEPACK = torch.load(f'voices/{VOICE_NAME}.pth',weights_only = True).to(device)"
   ]
  },
  {
   "cell_type": "code",
   "execution_count": null,
   "metadata": {
    "vscode": {
     "languageId": "plaintext"
    }
   },
   "outputs": [],
   "source": [
    "from Kokoro import generate\n",
    "text  = \" is this a try done by yassine \"\n",
    "audio , out_ps = generate(MODEL,text,VOICEPACK, lang = VOICE_NAME[0])"
   ]
  },
  {
   "cell_type": "code",
   "execution_count": null,
   "metadata": {
    "vscode": {
     "languageId": "plaintext"
    }
   },
   "outputs": [],
   "source": [
    "from  IPython.display import display , audio\n",
    "display( Audio (data=audio , rate=24000,autoplay=True)\n",
    "print(out_ps)"
   ]
  },
  {
   "cell_type": "code",
   "execution_count": null,
   "metadata": {
    "vscode": {
     "languageId": "plaintext"
    }
   },
   "outputs": [],
   "source": []
  },
  {
   "cell_type": "code",
   "execution_count": null,
   "metadata": {
    "vscode": {
     "languageId": "plaintext"
    }
   },
   "outputs": [],
   "source": []
  }
 ],
 "metadata": {
  "language_info": {
   "name": "python"
  }
 },
 "nbformat": 4,
 "nbformat_minor": 2
}
